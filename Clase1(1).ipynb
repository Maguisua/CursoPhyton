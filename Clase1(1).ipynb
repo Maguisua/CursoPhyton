{
  "nbformat": 4,
  "nbformat_minor": 0,
  "metadata": {
    "colab": {
      "provenance": []
    },
    "kernelspec": {
      "name": "python3",
      "display_name": "Python 3"
    },
    "language_info": {
      "name": "python"
    }
  },
  "cells": [
    {
      "cell_type": "markdown",
      "source": [
        "**INTRODUCCION A PYTHON**\n",
        "\n",
        "CURSO PYTHON\n",
        "\n",
        "UNICAFAM\n",
        "\n",
        "ESTUDIANTE: MAYCOL GUIO SUAREZ\n",
        "\n",
        "DOCENTE: NICOLAS MOJICA\n",
        "\n",
        "\n",
        "\n",
        "---\n",
        "\n",
        "\n"
      ],
      "metadata": {
        "id": "wkAUT4lGBAc9"
      }
    },
    {
      "cell_type": "code",
      "execution_count": 1,
      "metadata": {
        "colab": {
          "base_uri": "https://localhost:8080/"
        },
        "id": "okG9pI1P6_ml",
        "outputId": "4d0882ed-583f-41ba-995b-cc387c318625"
      },
      "outputs": [
        {
          "output_type": "stream",
          "name": "stdout",
          "text": [
            "Hola Mundo\n"
          ]
        }
      ],
      "source": [
        "# PARA PODER HACER COMENTARIOS DEBO USAR UN #\n",
        "print(\"Hola Mundo\")"
      ]
    },
    {
      "cell_type": "code",
      "source": [
        "#Para insertar comentarios de más de dos líneas se usa \"\"\n",
        "\"\"\"\n",
        "Este es\n",
        "un comentario\n",
        "de varias líneas\n",
        "\"\"\"\n",
        "print(\"hola Mundo\")"
      ],
      "metadata": {
        "colab": {
          "base_uri": "https://localhost:8080/"
        },
        "id": "KxXmhJjLEXAo",
        "outputId": "11a45bae-2021-4aec-c960-8cb1fa9b3c06"
      },
      "execution_count": 2,
      "outputs": [
        {
          "output_type": "stream",
          "name": "stdout",
          "text": [
            "hola Mundo\n"
          ]
        }
      ]
    },
    {
      "cell_type": "markdown",
      "source": [
        "**VARIABLES**"
      ],
      "metadata": {
        "id": "_CNTnXSsFEmZ"
      }
    },
    {
      "cell_type": "code",
      "source": [
        "#UNA VARIABLE SOLO SE DEBE NOMBRAR SIN CARACTERES ESPECIALES,SIN ESPACIOS,SIN MINUSCULAS\n",
        "var=\"hola mundo\"\n",
        "print(var)"
      ],
      "metadata": {
        "colab": {
          "base_uri": "https://localhost:8080/"
        },
        "id": "YqbpE3KEE1ku",
        "outputId": "cb92c63f-18ee-445a-91e6-0cfc5418ebce"
      },
      "execution_count": 3,
      "outputs": [
        {
          "output_type": "stream",
          "name": "stdout",
          "text": [
            "hola mundo\n"
          ]
        }
      ]
    },
    {
      "cell_type": "code",
      "source": [
        "var=\"adios mundo\"\n",
        "print(var)"
      ],
      "metadata": {
        "colab": {
          "base_uri": "https://localhost:8080/"
        },
        "id": "gQcQ7Tj0GWw9",
        "outputId": "fc8d92af-b6ea-440e-c1ae-f411706f2b24"
      },
      "execution_count": 4,
      "outputs": [
        {
          "output_type": "stream",
          "name": "stdout",
          "text": [
            "adios mundo\n"
          ]
        }
      ]
    },
    {
      "cell_type": "markdown",
      "source": [
        "**TIPOS DE DATOS**"
      ],
      "metadata": {
        "id": "n9WfWeYzG6Zd"
      }
    },
    {
      "cell_type": "code",
      "source": [
        "entero=42"
      ],
      "metadata": {
        "id": "tU8WzqfOG-as"
      },
      "execution_count": 5,
      "outputs": []
    },
    {
      "cell_type": "code",
      "source": [
        "flotante=3.14159"
      ],
      "metadata": {
        "id": "bOiv7SIzHaN6"
      },
      "execution_count": 6,
      "outputs": []
    },
    {
      "cell_type": "code",
      "source": [
        "#CONVERSION DE TIPOS DE DATOS\n",
        "entero=int(3.14159)# la respuesta es 3\n",
        "flotante=float(5)# la respuesta el 5.0\n"
      ],
      "metadata": {
        "id": "lqHVHhITHnsr"
      },
      "execution_count": null,
      "outputs": []
    }
  ]
}