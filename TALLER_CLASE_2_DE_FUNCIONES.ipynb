{
  "nbformat": 4,
  "nbformat_minor": 0,
  "metadata": {
    "colab": {
      "provenance": [],
      "authorship_tag": "ABX9TyMeRjpxs15GdMbsw4dwoxP7",
      "include_colab_link": true
    },
    "kernelspec": {
      "name": "python3",
      "display_name": "Python 3"
    },
    "language_info": {
      "name": "python"
    }
  },
  "cells": [
    {
      "cell_type": "markdown",
      "metadata": {
        "id": "view-in-github",
        "colab_type": "text"
      },
      "source": [
        "<a href=\"https://colab.research.google.com/github/Maguisua/CursoPhyton/blob/main/TALLER_CLASE_2_DE_FUNCIONES.ipynb\" target=\"_parent\"><img src=\"https://colab.research.google.com/assets/colab-badge.svg\" alt=\"Open In Colab\"/></a>"
      ]
    },
    {
      "cell_type": "markdown",
      "source": [
        "**TALLER DE FUNCIONES**\n",
        "\n",
        "CURSO PYTHON\n",
        "\n",
        "UNICAFAM\n",
        "\n",
        "ESTUDIANTE: MAYCOL GUIO SUAREZ\n",
        "\n",
        "DOCENTE: NICOLAS MOJICA\n",
        "\n",
        "\n",
        "\n",
        "---\n",
        "\n"
      ],
      "metadata": {
        "id": "u-HBmjNw13AE"
      }
    },
    {
      "cell_type": "code",
      "execution_count": null,
      "metadata": {
        "colab": {
          "base_uri": "https://localhost:8080/"
        },
        "id": "5RF3PhEAseyM",
        "outputId": "aaa10988-c03c-4b9c-b5fd-396ad5c76ad5"
      },
      "outputs": [
        {
          "output_type": "stream",
          "name": "stdout",
          "text": [
            "ingrese el salario bruto:800000\n",
            "ingrese el porcentaje de impuestos:10\n",
            "salario:-7200000.0\n"
          ]
        }
      ],
      "source": [
        "#Crea una función llamada calcular_salario_neto que reciba como parámetros el salario bruto de un empleado y el porcentaje de impuestos. La función debe devolver el salario neto\n",
        "def salario_neto(salbruto,porimp):\n",
        "  sn=salbruto - (salbruto * porcimp)\n",
        "  return sn\n",
        "salbruto=float(input(\"ingrese el salario bruto:\"))\n",
        "porcimp=float(input(\"ingrese el porcentaje de impuestos:\"))\n",
        "sn=salario_neto(salbruto,porcimp)\n",
        "print(f\"salario:{sn}\")"
      ]
    },
    {
      "cell_type": "code",
      "source": [
        "#Diseña una función calcular_precio_final que reciba el precio de un producto y el porcentaje de descuento.\n",
        "def calcular_precio_final(precio_pro,pdescuento):\n",
        "  precio_final=precio_pro - (precio_pro * (pdescuento / 100))\n",
        "  return precio_final\n",
        "precio_pro=float(input(\"ingrese el precio del producto:\"))\n",
        "pdescuento=float(input(\"ingrese el porcentaje de descuento:\"))\n",
        "precio_final=calcular_precio_final(precio_pro,pdescuento)\n",
        "print(f\"salario:{precio_final}\")\n"
      ],
      "metadata": {
        "colab": {
          "base_uri": "https://localhost:8080/"
        },
        "id": "gsdAjyHGvuXW",
        "outputId": "2458eb19-75a9-4c46-8e73-60426d60bbdc"
      },
      "execution_count": null,
      "outputs": [
        {
          "output_type": "stream",
          "name": "stdout",
          "text": [
            "ingrese el precio del producto:200000\n",
            "ingrese el porcentaje de descuento:40\n",
            "salario:120000.0\n"
          ]
        }
      ]
    },
    {
      "cell_type": "code",
      "source": [
        "#Escribe una función calcular_costo_envio que reciba el peso de un paquete y la distancia de envío, y devuelva el costo según estas reglas:\n",
        "#Menos de 5 kg: $10 por cada 100 km.\n",
        "#Entre 5 y 20 kg: $15 por cada 100 km.\n",
        "#Más de 20 kg: $25 por cada 100 km.\n",
        "\n",
        "def calcular_costo_envio(peso, distanciaenv):\n",
        "    if peso < 5:\n",
        "        valorcadacienkm = 10\n",
        "    elif 5 <= peso <= 20:\n",
        "        valorcadacienkm = 15\n",
        "    else:\n",
        "        valorcadacienkm = 25\n",
        "\n",
        "    costo_total = (distanciaenv / 100) * valorcadacienkm\n",
        "    return costo_total\n",
        "peso_paquete =int(input(\"ingrese el peso del paquete en KG:\"))\n",
        "distancia_envio = int(input(\"ingrese la distancia en KM: \"))\n",
        "\n",
        "costoe = calcular_costo_envio(peso_paquete, distancia_envio)\n",
        "print(f\"El costo de envío es: ${costoe}\")\n",
        "\n"
      ],
      "metadata": {
        "colab": {
          "base_uri": "https://localhost:8080/"
        },
        "id": "-JvfkgK5qdsF",
        "outputId": "02426a6a-389a-418d-c2e5-95530e2fef34"
      },
      "execution_count": null,
      "outputs": [
        {
          "output_type": "stream",
          "name": "stdout",
          "text": [
            "ingrese el peso del paquete en KG:500\n",
            "ingrese la distancia en KM: 40\n",
            "El costo de envío es: $10.0\n"
          ]
        }
      ]
    },
    {
      "cell_type": "code",
      "source": [
        "#Crea una función calificar_credito que reciba el ingreso mensual y los gastos mensuales de una persona. Si el ahorro (ingreso - gastos) es mayor al 30% del ingreso, devuelve True.\n",
        "#De lo contrario, devuelve False.\n",
        "def calificar_credito(ingresom, gastosm):\n",
        "    ahorro = ingresom - gastosm\n",
        "    if ahorro > 0.3 * ingresom:\n",
        "        print(\"true\")\n",
        "    else:\n",
        "        print(\"false\")\n",
        "ingresom=int(input(\"ingrese el valor del ingreso mensual:\"))\n",
        "gastosm=int(input(\"ingrese el valor de los gastos mensuales:\"))\n",
        "calificar_credito(ingresom,gastosm)\n",
        "\n",
        "\n",
        "\n"
      ],
      "metadata": {
        "id": "u5Cg26VlErn9",
        "colab": {
          "base_uri": "https://localhost:8080/"
        },
        "outputId": "42321de7-edff-4c18-ea7a-be1a9b3a9ba1"
      },
      "execution_count": 14,
      "outputs": [
        {
          "output_type": "stream",
          "name": "stdout",
          "text": [
            "ingrese el valor del ingreso mensual:10000000\n",
            "ingrese el valor de los gastos mensuales:3000000\n",
            "true\n"
          ]
        }
      ]
    }
  ]
}